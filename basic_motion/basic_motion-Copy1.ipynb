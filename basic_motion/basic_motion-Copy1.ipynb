{
 "cells": [
  {
   "cell_type": "markdown",
   "metadata": {},
   "source": [
    "# 基本运动\n",
    "\n",
    "欢迎来到NanoRobot基于浏览器的编程接口!  本文档是被称为\n",
    "*Jupyter Notebook*,结合文本、代码和图形所有都显示在一个里面!  \n",
    "挺全面的, 不是吗?如果你不熟悉 *Jupyter* 我们建议点击 \n",
    "``帮助`` 在顶部工具栏下拉菜单.  这给予*Jupyter*编程有用的参考. \n",
    "\n",
    "在这个笔记中,我们将介绍基本的控制JetBot. \n",
    "\n",
    "### 导入机器人类\n",
    "\n",
    "开始编程JetBot,我们需要导入``Robot``类.  这个类\n",
    "让我们轻松地控制机器人的电机!  这是包含在 ``jetbot`` 包.\n",
    "\n",
    "> 如果你是Python新手，*包*本质上是一个文件夹,其中包含代码文件. 这些代码文件被称为*模块*.\n",
    "> \n",
    "\n",
    "为了导入 ``Robot`` 类, 加亮下方的单元格并点击 ``ctrl + enter``或者上方的``运行`` 图标.\n",
    "这将执行单元格中包含的代码"
   ]
  },
  {
   "cell_type": "code",
   "execution_count": 1,
   "metadata": {},
   "outputs": [],
   "source": [
    "from jetbot import Robot"
   ]
  },
  {
   "cell_type": "markdown",
   "metadata": {},
   "source": [
    "现在我们已经导入了``Robot``类，我们可以按如下方式初始化类*实例*。"
   ]
  },
  {
   "cell_type": "code",
   "execution_count": 2,
   "metadata": {},
   "outputs": [],
   "source": [
    "robot = Robot()"
   ]
  },
  {
   "cell_type": "markdown",
   "metadata": {},
   "source": [
    "### 指挥机器人"
   ]
  },
  {
   "cell_type": "markdown",
   "metadata": {},
   "source": [
    "现在我们已经创建了名为“robot”的``Robot``实例，我们可以使用这个实例\n",
    "控制机器人。使机器人逆时针旋转至其最大速度的30％\n",
    "我们可以给以下命令\n",
    "\n",
    "> 警告：下一个命令将使机器人移动！请确保机器人有空间。"
   ]
  },
  {
   "cell_type": "code",
   "execution_count": 3,
   "metadata": {},
   "outputs": [],
   "source": [
    "robot.left(speed=0.3)"
   ]
  },
  {
   "cell_type": "markdown",
   "metadata": {},
   "source": [
    "酷,你应该看到机器人是逆时针旋转的!\n",
    "\n",
    "> 如果您的机器人没有向左转，这意味着其中一个电机接线反了！尝试关闭机器人电源，并更换错误电机的``红色``和``黑色``电缆的端子。\n",
    "> \n",
    "> \n",
    ">提醒：务必小心检查接线，不要更改正在运行的系统的接线！\n",
    "\n",
    "现在，为了停止机器人，你可以调用``停止``方法。"
   ]
  },
  {
   "cell_type": "code",
   "execution_count": 4,
   "metadata": {},
   "outputs": [],
   "source": [
    "robot.stop()"
   ]
  },
  {
   "cell_type": "markdown",
   "metadata": {},
   "source": [
    "也许我们只想在一段时间内运行机器人。为此，我们可以使用Python``Time``包。"
   ]
  },
  {
   "cell_type": "code",
   "execution_count": 5,
   "metadata": {},
   "outputs": [],
   "source": [
    "import time"
   ]
  },
  {
   "cell_type": "markdown",
   "metadata": {},
   "source": [
    "这个包定义了``sleep``函数，它导致代码执行指定的秒数\n",
    "在运行下一个命令之前。尝试以下操作使机器人仅向左转半秒钟。"
   ]
  },
  {
   "cell_type": "code",
   "execution_count": 6,
   "metadata": {},
   "outputs": [],
   "source": [
    "robot.left(0.3)\n",
    "time.sleep(0.5)\n",
    "robot.stop()"
   ]
  },
  {
   "cell_type": "markdown",
   "metadata": {},
   "source": [
    "很好。您应该看到机器人向左转了一会然后停下来\n",
    "\n",
    "> 想知道``left``方法里面``speed =``发生了什么？ Python允许我们通过它们的名称或它们的定义顺序（不指定名称）来设置函数参数。\n",
    "> \n",
    "> \n",
    "\n",
    "\n",
    "``BasicJetbot``类也有``right``，``forward``和``backwards``方法。尝试创建自己的单元格，让机器人以50％的速度向前移动一秒钟。\n",
    "\n",
    "通过突出显示现有单元格并按下上面的``b``或``+``图标来创建一个新单元格。完成后，输入您认为会使机器人以50％的速度向前移动一秒钟的代码。"
   ]
  },
  {
   "cell_type": "markdown",
   "metadata": {},
   "source": [
    "### 单独控制电机\n",
    "\n",
    "\n",
    "上面我们看到了如何使用``left``，``right``等命令控制机器人。但是如果我们想要独立设置每个电机速度怎么办？\n",
    "那么，有两种方法可以做到这一点\n",
    "\n",
    "第一种方法是调用``set_motors``方法。例如，要沿左轮转一秒，我们可以将左电机设置为30％，将右电机设置为60％，如下所示。"
   ]
  },
  {
   "cell_type": "code",
   "execution_count": 7,
   "metadata": {},
   "outputs": [],
   "source": [
    "robot.set_motors(0.3, 0.6)\n",
    "time.sleep(1.0)\n",
    "robot.stop()"
   ]
  },
  {
   "cell_type": "markdown",
   "metadata": {},
   "source": [
    "好!  您应该看到机器人沿左轮转动。但实际上，我们可以采用另一种方式来完成同样的事情。\n",
    "\n",
    "``Robot``类有两个名为``left_motor``和``right_motor``的属性，分别代表每个电机。\n",
    "这些属性是``Motor``类实例，每个实例都包含一个``value``属性。这个``value``属性是[traitlet](https://github.com/ipython/traitlets)，它在分配新值时生成``events``。在电机类中，我们附加一个函数，只要值发生变化，就会更新电机命令。\n",
    "\n",
    "所以，为了完成我们上面完成的相同的事情，我们可以执行以下操作。"
   ]
  },
  {
   "cell_type": "code",
   "execution_count": 8,
   "metadata": {},
   "outputs": [],
   "source": [
    "robot.left_motor.value = 0.3\n",
    "robot.right_motor.value = 0.6\n",
    "time.sleep(1.0)\n",
    "robot.left_motor.value = 0.0\n",
    "robot.right_motor.value = 0.0"
   ]
  },
  {
   "cell_type": "markdown",
   "metadata": {},
   "source": [
    "您应该看到机器人以相同的方式移动！"
   ]
  },
  {
   "cell_type": "markdown",
   "metadata": {},
   "source": [
    "### 将电机连接到traitlets"
   ]
  },
  {
   "cell_type": "markdown",
   "metadata": {},
   "source": [
    "关于这些[traitlets](https://github.com/ipython/traitlets)的一个非常酷的功能是我们可以\n",
    "还将它们链接到其他traitlets！这非常方便，因为Jupyter Notebooks允许我们\n",
    "制作使用traitlets的图形``小部件``。这意味着我们可以附加\n",
    "我们的电机用于``小部件``以从浏览器控制它们，或者只是想象它的价值。\n",
    "\n",
    "为了说明如何执行此操作，让我们创建并显示两个我们将用于控制电机的滑块。"
   ]
  },
  {
   "cell_type": "code",
   "execution_count": 9,
   "metadata": {},
   "outputs": [
    {
     "data": {
      "application/vnd.jupyter.widget-view+json": {
       "model_id": "f79622a5ee724e408f80209b22e5234b",
       "version_major": 2,
       "version_minor": 0
      },
      "text/plain": [
       "HBox(children=(FloatSlider(value=0.0, description='left', max=1.0, min=-1.0, orientation='vertical', step=0.01…"
      ]
     },
     "metadata": {},
     "output_type": "display_data"
    }
   ],
   "source": [
    "import ipywidgets.widgets as widgets\n",
    "from IPython.display import display\n",
    "\n",
    "# create two sliders with range [-1.0, 1.0]\n",
    "left_slider = widgets.FloatSlider(description='left', min=-1.0, max=1.0, step=0.01, orientation='vertical')\n",
    "right_slider = widgets.FloatSlider(description='right', min=-1.0, max=1.0, step=0.01, orientation='vertical')\n",
    "\n",
    "# create a horizontal box container to place the sliders next to eachother\n",
    "slider_container = widgets.HBox([left_slider, right_slider])\n",
    "\n",
    "# display the container in this cell's output\n",
    "display(slider_container)"
   ]
  },
  {
   "cell_type": "markdown",
   "metadata": {},
   "source": [
    "您应该看到上面显示的两个``垂直``滑块。 \n",
    "\n",
    "> 有用的提示：在Jupyter中，您实际上可以将单元格的输出“弹出”到完全独立的窗口中！它仍然会连接到Jupyter，但会单独显示。如果我们想要固定我们在别处执行的代码输出，这将非常有用。为此，右键单击单元格的输出，然后选择``为输出创建新视图``。然后，您可以将新窗口拖动到您感觉满意的位置。 \n",
    "> \n",
    "> \n",
    "> \n",
    "\n",
    "尝试单击并上下拖动滑块。请注意，当前我们移动滑块时没有任何反应。那是因为我们还没有将它们连接到电机上！我们将通过使用traitlets包中的``link``函数来实现。"
   ]
  },
  {
   "cell_type": "code",
   "execution_count": 17,
   "metadata": {},
   "outputs": [],
   "source": [
    "import traitlets\n",
    "\n",
    "left_link = traitlets.link((left_slider, 'value'), (robot.left_motor, 'value'))\n",
    "right_link = traitlets.link((right_slider, 'value'), (robot.right_motor, 'value'))"
   ]
  },
  {
   "cell_type": "markdown",
   "metadata": {},
   "source": [
    "现在尝试拖动滑块（先缓慢）。您应该看到相应的电机转动！\n",
    "\n",
    "我们上面创建的``link``函数实际上创建了一个双向链接！那意味着，\n",
    "如果我们在其他地方设置电机值，滑块将更新！尝试执行下面的代码块"
   ]
  },
  {
   "cell_type": "code",
   "execution_count": 15,
   "metadata": {},
   "outputs": [],
   "source": [
    "robot.forward(0.3)\n",
    "time.sleep(1.0)\n",
    "robot.stop()"
   ]
  },
  {
   "cell_type": "markdown",
   "metadata": {},
   "source": [
    "您应该看到滑块响应电机命令！如果我们要删除此连接，我们可以调用\n",
    "每个链接的``unlink``方法。"
   ]
  },
  {
   "cell_type": "code",
   "execution_count": 16,
   "metadata": {},
   "outputs": [],
   "source": [
    "left_link.unlink()\n",
    "right_link.unlink()"
   ]
  },
  {
   "cell_type": "markdown",
   "metadata": {},
   "source": [
    "但是，如果我们不想要*双向*链接，假设我们只想使用滑块来显示电机值，\n",
    "但不能控制它们。为此，我们可以使用``dlink``函数。左输入是``source``，右输入是``target``"
   ]
  },
  {
   "cell_type": "code",
   "execution_count": 14,
   "metadata": {},
   "outputs": [],
   "source": [
    "left_link = traitlets.dlink((robot.left_motor, 'value'), (left_slider, 'value'))\n",
    "right_link = traitlets.dlink((robot.right_motor, 'value'), (right_slider, 'value'))"
   ]
  },
  {
   "cell_type": "markdown",
   "metadata": {},
   "source": [
    "现在尝试移动滑块。您应该看到机器人没有响应。但是当使用不同的方法设置电机时，\n",
    "滑块将更新并显示值！"
   ]
  },
  {
   "cell_type": "markdown",
   "metadata": {},
   "source": [
    "### 将功能附加到事件"
   ]
  },
  {
   "cell_type": "markdown",
   "metadata": {},
   "source": [
    "另一种使用traitlet的方法是将函数（如``forward``）附加到事件中。这些\n",
    "只要对对象发生更改，就会调用函数，并将传递有关该更改的一些信息\n",
    "比如``old``值和``new``值。\n",
    "\n",
    "让我们创建并显示一些我们将用来控制机器人的按钮。"
   ]
  },
  {
   "cell_type": "code",
   "execution_count": 18,
   "metadata": {},
   "outputs": [
    {
     "data": {
      "application/vnd.jupyter.widget-view+json": {
       "model_id": "1a8897648c6a46f2bcaa72a29217dc94",
       "version_major": 2,
       "version_minor": 0
      },
      "text/plain": [
       "VBox(children=(Button(description='forward', layout=Layout(align_self='center', height='80px', width='100px'),…"
      ]
     },
     "metadata": {},
     "output_type": "display_data"
    }
   ],
   "source": [
    "# create buttons\n",
    "button_layout = widgets.Layout(width='100px', height='80px', align_self='center')\n",
    "stop_button = widgets.Button(description='stop', button_style='danger', layout=button_layout)\n",
    "forward_button = widgets.Button(description='forward', layout=button_layout)\n",
    "backward_button = widgets.Button(description='backward', layout=button_layout)\n",
    "left_button = widgets.Button(description='left', layout=button_layout)\n",
    "right_button = widgets.Button(description='right', layout=button_layout)\n",
    "\n",
    "# display buttons\n",
    "middle_box = widgets.HBox([left_button, stop_button, right_button], layout=widgets.Layout(align_self='center'))\n",
    "controls_box = widgets.VBox([forward_button, middle_box, backward_button])\n",
    "display(controls_box)"
   ]
  },
  {
   "cell_type": "markdown",
   "metadata": {},
   "source": [
    "您应该看到上面显示的一组机器人控件！但是现在他们什么都没办法做。要做到这一点，我们需要创建一些函数，我们将附加到按钮的``on_click``事件。"
   ]
  },
  {
   "cell_type": "code",
   "execution_count": 19,
   "metadata": {},
   "outputs": [],
   "source": [
    "def stop(change):\n",
    "    robot.stop()\n",
    "    \n",
    "def step_forward(change):\n",
    "    robot.forward(0.4)\n",
    "    time.sleep(0.5)\n",
    "    robot.stop()\n",
    "\n",
    "def step_backward(change):\n",
    "    robot.backward(0.4)\n",
    "    time.sleep(0.5)\n",
    "    robot.stop()\n",
    "\n",
    "def step_left(change):\n",
    "    robot.left(0.3)\n",
    "    time.sleep(0.5)\n",
    "    robot.stop()\n",
    "\n",
    "def step_right(change):\n",
    "    robot.right(0.3)\n",
    "    time.sleep(0.5)\n",
    "    robot.stop()"
   ]
  },
  {
   "cell_type": "markdown",
   "metadata": {},
   "source": [
    "现在我们已经定义了这些函数，让我们将它们附加到每个按钮的点击事件上"
   ]
  },
  {
   "cell_type": "code",
   "execution_count": 20,
   "metadata": {},
   "outputs": [],
   "source": [
    "# link buttons to actions\n",
    "stop_button.on_click(stop)\n",
    "forward_button.on_click(step_forward)\n",
    "backward_button.on_click(step_backward)\n",
    "left_button.on_click(step_left)\n",
    "right_button.on_click(step_right)"
   ]
  },
  {
   "cell_type": "markdown",
   "metadata": {},
   "source": [
    "现在，当您单击每个按钮时，您应该看到机器人移动！"
   ]
  },
  {
   "cell_type": "markdown",
   "metadata": {},
   "source": [
    "### Heartbeat Killswitch\n",
    "\n",
    "在这里，我们将展示如何连接“心跳”以阻止机器人移动。这是检测机器人连接是否存活的简单方法。您可以降低下方的滑块以减少心跳的周期（以秒为单位）。如果浏览器之间的往返通信不能在两个心跳内进行，则心跳的'`status`'属性将被设置为``dead``。一旦连接恢复，``status``属性将返回``alive``。"
   ]
  },
  {
   "cell_type": "code",
   "execution_count": null,
   "metadata": {},
   "outputs": [],
   "source": [
    "from jetbot import Heartbeat\n",
    "\n",
    "heartbeat = Heartbeat()\n",
    "\n",
    "# this function will be called when heartbeat 'alive' status changes\n",
    "def handle_heartbeat_status(change):\n",
    "    if change['new'] == Heartbeat.Status.dead:\n",
    "        robot.stop()\n",
    "        \n",
    "heartbeat.observe(handle_heartbeat_status, names='status')\n",
    "\n",
    "period_slider = widgets.FloatSlider(description='period', min=0.001, max=0.5, step=0.01, value=0.5)\n",
    "traitlets.dlink((period_slider, 'value'), (heartbeat, 'period'))\n",
    "\n",
    "display(period_slider, heartbeat.pulseout)"
   ]
  },
  {
   "cell_type": "markdown",
   "metadata": {},
   "source": [
    "尝试执行以下代码启动电机，然后降低滑块以查看发生的情况。您也可以尝试断开机器人或PC的连接。"
   ]
  },
  {
   "cell_type": "code",
   "execution_count": null,
   "metadata": {},
   "outputs": [],
   "source": [
    "robot.left(0.2) \n",
    "\n",
    "# now lower the `period` slider above until the network heartbeat can't be satisfied"
   ]
  },
  {
   "cell_type": "markdown",
   "metadata": {},
   "source": [
    "### 总结\n",
    "\n",
    "这就是这个例子!希望你有信心去规划你的机器人移动:)"
   ]
  },
  {
   "cell_type": "code",
   "execution_count": null,
   "metadata": {},
   "outputs": [],
   "source": []
  }
 ],
 "metadata": {
  "kernelspec": {
   "display_name": "Python 3",
   "language": "python",
   "name": "python3"
  },
  "language_info": {
   "codemirror_mode": {
    "name": "ipython",
    "version": 3
   },
   "file_extension": ".py",
   "mimetype": "text/x-python",
   "name": "python",
   "nbconvert_exporter": "python",
   "pygments_lexer": "ipython3",
   "version": "3.7.2"
  }
 },
 "nbformat": 4,
 "nbformat_minor": 2
}
